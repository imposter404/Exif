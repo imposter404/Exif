{
 "cells": [
  {
   "cell_type": "code",
   "execution_count": null,
   "metadata": {},
   "outputs": [],
   "source": [
    "import cv2\n",
    "import os"
   ]
  },
  {
   "cell_type": "code",
   "execution_count": null,
   "metadata": {},
   "outputs": [],
   "source": [
    "def EXIF():\n",
    "    for filename in os.listdir(\"pic\"):\n",
    "        image=cv2.imread(os.path.join(\"pic\", filename))\n",
    "        print(filename)\n",
    "        os.makedirs('new', exist_ok=True)\n",
    "        cv2.imwrite('new/'+filename,image)\n",
    "    print(\"\\n-------------------------------\")\n",
    "    print(\"Completed\")\n",
    "    print(\"-------------------------------\")\n",
    "    input()\n",
    "\n",
    "EXIF()"
   ]
  }
 ],
 "metadata": {
  "kernelspec": {
   "display_name": "Python 3",
   "language": "python",
   "name": "python3"
  },
  "language_info": {
   "codemirror_mode": {
    "name": "ipython",
    "version": 3
   },
   "file_extension": ".py",
   "mimetype": "text/x-python",
   "name": "python",
   "nbconvert_exporter": "python",
   "pygments_lexer": "ipython3",
   "version": "3.12.6"
  }
 },
 "nbformat": 4,
 "nbformat_minor": 2
}
